{
 "cells": [
  {
   "cell_type": "code",
   "execution_count": 0,
   "metadata": {
    "application/vnd.databricks.v1+cell": {
     "cellMetadata": {
      "byteLimit": 2048000,
      "rowLimit": 10000
     },
     "inputWidgets": {},
     "nuid": "ade4ed9b-43f4-4896-8687-bc110d5cb14c",
     "showTitle": true,
     "title": "Importing libraries"
    }
   },
   "outputs": [],
   "source": [
    "import pyspark\n",
    "from pyspark.sql import SparkSession\n",
    "from pyspark.sql.types import StructType,StructField,StringType,IntegerType\n",
    "from pyspark.sql.functions import *"
   ]
  },
  {
   "cell_type": "code",
   "execution_count": 0,
   "metadata": {
    "application/vnd.databricks.v1+cell": {
     "cellMetadata": {
      "byteLimit": 2048000,
      "rowLimit": 10000
     },
     "inputWidgets": {},
     "nuid": "a62712dc-ddcc-4cef-ad23-3d0f2a5a7600",
     "showTitle": true,
     "title": "Create a dataframe"
    }
   },
   "outputs": [],
   "source": [
    "spark = SparkSession.builder.appName('Project').getOrCreate()"
   ]
  },
  {
   "cell_type": "code",
   "execution_count": 0,
   "metadata": {
    "application/vnd.databricks.v1+cell": {
     "cellMetadata": {
      "byteLimit": 2048000,
      "rowLimit": 10000
     },
     "inputWidgets": {},
     "nuid": "a4deb7fb-7995-442e-903f-008bd4901ee5",
     "showTitle": false,
     "title": ""
    }
   },
   "outputs": [],
   "source": [
    "df = spark.read.csv(\"/FileStore/tables/googleplaystore.csv\", inferSchema=True, header=True)"
   ]
  },
  {
   "cell_type": "code",
   "execution_count": 0,
   "metadata": {
    "application/vnd.databricks.v1+cell": {
     "cellMetadata": {
      "byteLimit": 2048000,
      "rowLimit": 10000
     },
     "inputWidgets": {},
     "nuid": "5510e144-2f24-4d6f-9208-2fa9325bcbd5",
     "showTitle": false,
     "title": ""
    }
   },
   "outputs": [
    {
     "output_type": "stream",
     "name": "stdout",
     "output_type": "stream",
     "text": [
      "+--------------------+--------------+------+-------+----+--------+----+-----+--------------+--------------------+----------------+-----------+------------+\n|                 App|      Category|Rating|Reviews|Size|Installs|Type|Price|Content Rating|              Genres|    Last Updated|Current Ver| Android Ver|\n+--------------------+--------------+------+-------+----+--------+----+-----+--------------+--------------------+----------------+-----------+------------+\n|Photo Editor & Ca...|ART_AND_DESIGN|   4.1|    159| 19M| 10,000+|Free|    0|      Everyone|        Art & Design| January 7, 2018|      1.0.0|4.0.3 and up|\n| Coloring book moana|ART_AND_DESIGN|   3.9|    967| 14M|500,000+|Free|    0|      Everyone|Art & Design;Pret...|January 15, 2018|      2.0.0|4.0.3 and up|\n+--------------------+--------------+------+-------+----+--------+----+-----+--------------+--------------------+----------------+-----------+------------+\nonly showing top 2 rows\n\n"
     ]
    }
   ],
   "source": [
    "df.show(2)"
   ]
  },
  {
   "cell_type": "code",
   "execution_count": 0,
   "metadata": {
    "application/vnd.databricks.v1+cell": {
     "cellMetadata": {
      "byteLimit": 2048000,
      "rowLimit": 10000
     },
     "inputWidgets": {},
     "nuid": "fa47c9e2-5387-4966-a5c2-7682ca98db29",
     "showTitle": false,
     "title": ""
    }
   },
   "outputs": [
    {
     "output_type": "stream",
     "name": "stdout",
     "output_type": "stream",
     "text": [
      "Out[5]: 10841"
     ]
    }
   ],
   "source": [
    "df.count()"
   ]
  },
  {
   "cell_type": "code",
   "execution_count": 0,
   "metadata": {
    "application/vnd.databricks.v1+cell": {
     "cellMetadata": {
      "byteLimit": 2048000,
      "rowLimit": 10000
     },
     "inputWidgets": {},
     "nuid": "d656b63c-f56f-48ab-aa41-6eebadacc781",
     "showTitle": true,
     "title": "cheking schema"
    }
   },
   "outputs": [
    {
     "output_type": "stream",
     "name": "stdout",
     "output_type": "stream",
     "text": [
      "root\n |-- App: string (nullable = true)\n |-- Category: string (nullable = true)\n |-- Rating: string (nullable = true)\n |-- Reviews: string (nullable = true)\n |-- Size: string (nullable = true)\n |-- Installs: string (nullable = true)\n |-- Type: string (nullable = true)\n |-- Price: string (nullable = true)\n |-- Content Rating: string (nullable = true)\n |-- Genres: string (nullable = true)\n |-- Last Updated: string (nullable = true)\n |-- Current Ver: string (nullable = true)\n |-- Android Ver: string (nullable = true)\n\n"
     ]
    }
   ],
   "source": [
    "df.printSchema()"
   ]
  },
  {
   "cell_type": "code",
   "execution_count": 0,
   "metadata": {
    "application/vnd.databricks.v1+cell": {
     "cellMetadata": {
      "byteLimit": 2048000,
      "rowLimit": 10000
     },
     "inputWidgets": {},
     "nuid": "e90fd8f0-71ba-4eaf-b315-74d6079a3941",
     "showTitle": true,
     "title": "Data cleaning"
    }
   },
   "outputs": [],
   "source": [
    "df = df.drop('Size','Content Rating', 'Last Updated', 'Android Ver', 'Current Ver')"
   ]
  },
  {
   "cell_type": "code",
   "execution_count": 0,
   "metadata": {
    "application/vnd.databricks.v1+cell": {
     "cellMetadata": {
      "byteLimit": 2048000,
      "rowLimit": 10000
     },
     "inputWidgets": {},
     "nuid": "3a96c087-6620-47f7-a329-62ebd9a57b4d",
     "showTitle": false,
     "title": ""
    }
   },
   "outputs": [
    {
     "output_type": "stream",
     "name": "stdout",
     "output_type": "stream",
     "text": [
      "+--------------------+--------------+------+-------+-----------+----+-----+--------------------+\n|                 App|      Category|Rating|Reviews|   Installs|Type|Price|              Genres|\n+--------------------+--------------+------+-------+-----------+----+-----+--------------------+\n|Photo Editor & Ca...|ART_AND_DESIGN|   4.1|    159|    10,000+|Free|    0|        Art & Design|\n| Coloring book moana|ART_AND_DESIGN|   3.9|    967|   500,000+|Free|    0|Art & Design;Pret...|\n|U Launcher Lite –...|ART_AND_DESIGN|   4.7|  87510| 5,000,000+|Free|    0|        Art & Design|\n|Sketch - Draw & P...|ART_AND_DESIGN|   4.5| 215644|50,000,000+|Free|    0|        Art & Design|\n|Pixel Draw - Numb...|ART_AND_DESIGN|   4.3|    967|   100,000+|Free|    0|Art & Design;Crea...|\n|Paper flowers ins...|ART_AND_DESIGN|   4.4|    167|    50,000+|Free|    0|        Art & Design|\n|Smoke Effect Phot...|ART_AND_DESIGN|   3.8|    178|    50,000+|Free|    0|        Art & Design|\n|    Infinite Painter|ART_AND_DESIGN|   4.1|  36815| 1,000,000+|Free|    0|        Art & Design|\n|Garden Coloring Book|ART_AND_DESIGN|   4.4|  13791| 1,000,000+|Free|    0|        Art & Design|\n|Kids Paint Free -...|ART_AND_DESIGN|   4.7|    121|    10,000+|Free|    0|Art & Design;Crea...|\n|Text on Photo - F...|ART_AND_DESIGN|   4.4|  13880| 1,000,000+|Free|    0|        Art & Design|\n|Name Art Photo Ed...|ART_AND_DESIGN|   4.4|   8788| 1,000,000+|Free|    0|        Art & Design|\n|Tattoo Name On My...|ART_AND_DESIGN|   4.2|  44829|10,000,000+|Free|    0|        Art & Design|\n|Mandala Coloring ...|ART_AND_DESIGN|   4.6|   4326|   100,000+|Free|    0|        Art & Design|\n|3D Color Pixel by...|ART_AND_DESIGN|   4.4|   1518|   100,000+|Free|    0|        Art & Design|\n|Learn To Draw Kaw...|ART_AND_DESIGN|   3.2|     55|     5,000+|Free|    0|        Art & Design|\n|Photo Designer - ...|ART_AND_DESIGN|   4.7|   3632|   500,000+|Free|    0|        Art & Design|\n|350 Diy Room Deco...|ART_AND_DESIGN|   4.5|     27|    10,000+|Free|    0|        Art & Design|\n|FlipaClip - Carto...|ART_AND_DESIGN|   4.3| 194216| 5,000,000+|Free|    0|        Art & Design|\n|        ibis Paint X|ART_AND_DESIGN|   4.6| 224399|10,000,000+|Free|    0|        Art & Design|\n|Logo Maker - Smal...|ART_AND_DESIGN|   4.0|    450|   100,000+|Free|    0|        Art & Design|\n|Boys Photo Editor...|ART_AND_DESIGN|   4.1|    654|   100,000+|Free|    0|        Art & Design|\n|Superheroes Wallp...|ART_AND_DESIGN|   4.7|   7699|   500,000+|Free|    0|        Art & Design|\n|Mcqueen Coloring ...|ART_AND_DESIGN|   NaN|     61|   100,000+|Free|    0|Art & Design;Acti...|\n|HD Mickey Minnie ...|ART_AND_DESIGN|   4.7|    118|    50,000+|Free|    0|        Art & Design|\n|Harley Quinn wall...|ART_AND_DESIGN|   4.8|    192|    10,000+|Free|    0|        Art & Design|\n|Colorfit - Drawin...|ART_AND_DESIGN|   4.7|  20260|   500,000+|Free|    0|Art & Design;Crea...|\n|Animated Photo Ed...|ART_AND_DESIGN|   4.1|    203|   100,000+|Free|    0|        Art & Design|\n|Pencil Sketch Dra...|ART_AND_DESIGN|   3.9|    136|    10,000+|Free|    0|        Art & Design|\n|Easy Realistic Dr...|ART_AND_DESIGN|   4.1|    223|   100,000+|Free|    0|        Art & Design|\n+--------------------+--------------+------+-------+-----------+----+-----+--------------------+\nonly showing top 30 rows\n\n"
     ]
    }
   ],
   "source": [
    "df.show(30)"
   ]
  },
  {
   "cell_type": "code",
   "execution_count": 0,
   "metadata": {
    "application/vnd.databricks.v1+cell": {
     "cellMetadata": {
      "byteLimit": 2048000,
      "rowLimit": 10000
     },
     "inputWidgets": {},
     "nuid": "c2fa66b5-0530-48dc-8665-d4124f972118",
     "showTitle": false,
     "title": ""
    }
   },
   "outputs": [],
   "source": [
    "df = df.dropna(how='any')"
   ]
  },
  {
   "cell_type": "code",
   "execution_count": 0,
   "metadata": {
    "application/vnd.databricks.v1+cell": {
     "cellMetadata": {
      "byteLimit": 2048000,
      "rowLimit": 10000
     },
     "inputWidgets": {},
     "nuid": "b782357a-5458-4338-b26a-33e7025ecc0a",
     "showTitle": false,
     "title": ""
    }
   },
   "outputs": [],
   "source": [
    "df = df.withColumn(\"Review\",col('Reviews').cast(IntegerType()))\\\n",
    ".withColumn(\"Installs\",regexp_replace(col(\"Installs\"),\"[^0-9]\",\"\"))\\\n",
    "    .withColumn(\"Installs\",col(\"Installs\").cast(IntegerType()))\\\n",
    "        .withColumn(\"Price\",regexp_replace(col(\"Price\"),\"[$]\",\"\"))\\\n",
    "            .withColumn(\"Price\",col(\"Price\").cast(IntegerType()))"
   ]
  },
  {
   "cell_type": "code",
   "execution_count": 0,
   "metadata": {
    "application/vnd.databricks.v1+cell": {
     "cellMetadata": {
      "byteLimit": 2048000,
      "rowLimit": 10000
     },
     "inputWidgets": {},
     "nuid": "972b009d-91ba-4d14-b3bf-2c77bd055b5f",
     "showTitle": false,
     "title": ""
    }
   },
   "outputs": [
    {
     "output_type": "stream",
     "name": "stdout",
     "output_type": "stream",
     "text": [
      "root\n |-- App: string (nullable = true)\n |-- Category: string (nullable = true)\n |-- Rating: string (nullable = true)\n |-- Reviews: string (nullable = true)\n |-- Installs: integer (nullable = true)\n |-- Type: string (nullable = true)\n |-- Price: integer (nullable = true)\n |-- Genres: string (nullable = true)\n |-- Review: integer (nullable = true)\n\n"
     ]
    }
   ],
   "source": [
    "df.printSchema()"
   ]
  },
  {
   "cell_type": "code",
   "execution_count": 0,
   "metadata": {
    "application/vnd.databricks.v1+cell": {
     "cellMetadata": {
      "byteLimit": 2048000,
      "rowLimit": 10000
     },
     "inputWidgets": {},
     "nuid": "8c623728-946c-4a5e-b0cc-d2d139d51d2c",
     "showTitle": false,
     "title": ""
    }
   },
   "outputs": [
    {
     "output_type": "stream",
     "name": "stdout",
     "output_type": "stream",
     "text": [
      "+--------------------+--------------+------+-------+--------+----+-----+--------------------+------+\n|                 App|      Category|Rating|Reviews|Installs|Type|Price|              Genres|Review|\n+--------------------+--------------+------+-------+--------+----+-----+--------------------+------+\n|Photo Editor & Ca...|ART_AND_DESIGN|   4.1|    159|   10000|Free|    0|        Art & Design|   159|\n| Coloring book moana|ART_AND_DESIGN|   3.9|    967|  500000|Free|    0|Art & Design;Pret...|   967|\n|U Launcher Lite –...|ART_AND_DESIGN|   4.7|  87510| 5000000|Free|    0|        Art & Design| 87510|\n|Sketch - Draw & P...|ART_AND_DESIGN|   4.5| 215644|50000000|Free|    0|        Art & Design|215644|\n|Pixel Draw - Numb...|ART_AND_DESIGN|   4.3|    967|  100000|Free|    0|Art & Design;Crea...|   967|\n|Paper flowers ins...|ART_AND_DESIGN|   4.4|    167|   50000|Free|    0|        Art & Design|   167|\n|Smoke Effect Phot...|ART_AND_DESIGN|   3.8|    178|   50000|Free|    0|        Art & Design|   178|\n|    Infinite Painter|ART_AND_DESIGN|   4.1|  36815| 1000000|Free|    0|        Art & Design| 36815|\n|Garden Coloring Book|ART_AND_DESIGN|   4.4|  13791| 1000000|Free|    0|        Art & Design| 13791|\n|Kids Paint Free -...|ART_AND_DESIGN|   4.7|    121|   10000|Free|    0|Art & Design;Crea...|   121|\n|Text on Photo - F...|ART_AND_DESIGN|   4.4|  13880| 1000000|Free|    0|        Art & Design| 13880|\n|Name Art Photo Ed...|ART_AND_DESIGN|   4.4|   8788| 1000000|Free|    0|        Art & Design|  8788|\n|Tattoo Name On My...|ART_AND_DESIGN|   4.2|  44829|10000000|Free|    0|        Art & Design| 44829|\n|Mandala Coloring ...|ART_AND_DESIGN|   4.6|   4326|  100000|Free|    0|        Art & Design|  4326|\n|3D Color Pixel by...|ART_AND_DESIGN|   4.4|   1518|  100000|Free|    0|        Art & Design|  1518|\n|Learn To Draw Kaw...|ART_AND_DESIGN|   3.2|     55|    5000|Free|    0|        Art & Design|    55|\n|Photo Designer - ...|ART_AND_DESIGN|   4.7|   3632|  500000|Free|    0|        Art & Design|  3632|\n|350 Diy Room Deco...|ART_AND_DESIGN|   4.5|     27|   10000|Free|    0|        Art & Design|    27|\n|FlipaClip - Carto...|ART_AND_DESIGN|   4.3| 194216| 5000000|Free|    0|        Art & Design|194216|\n|        ibis Paint X|ART_AND_DESIGN|   4.6| 224399|10000000|Free|    0|        Art & Design|224399|\n+--------------------+--------------+------+-------+--------+----+-----+--------------------+------+\nonly showing top 20 rows\n\n"
     ]
    }
   ],
   "source": [
    "df.show(20)"
   ]
  },
  {
   "cell_type": "code",
   "execution_count": 0,
   "metadata": {
    "application/vnd.databricks.v1+cell": {
     "cellMetadata": {
      "byteLimit": 2048000,
      "rowLimit": 10000
     },
     "inputWidgets": {},
     "nuid": "0d243069-e231-4bb5-8355-4755dd1bc1de",
     "showTitle": false,
     "title": ""
    }
   },
   "outputs": [],
   "source": [
    "df.createTempView('gapps')"
   ]
  },
  {
   "cell_type": "code",
   "execution_count": 0,
   "metadata": {
    "application/vnd.databricks.v1+cell": {
     "cellMetadata": {
      "byteLimit": 2048000,
      "implicitDf": true,
      "rowLimit": 10000
     },
     "inputWidgets": {},
     "nuid": "b2dc3301-8ebf-4119-99b6-40f63f06200c",
     "showTitle": false,
     "title": ""
    }
   },
   "outputs": [
    {
     "output_type": "display_data",
     "data": {
      "text/html": [
       "<style scoped>\n",
       "  .table-result-container {\n",
       "    max-height: 300px;\n",
       "    overflow: auto;\n",
       "  }\n",
       "  table, th, td {\n",
       "    border: 1px solid black;\n",
       "    border-collapse: collapse;\n",
       "  }\n",
       "  th, td {\n",
       "    padding: 5px;\n",
       "  }\n",
       "  th {\n",
       "    text-align: left;\n",
       "  }\n",
       "</style><div class='table-result-container'><table class='table-result'><thead style='background-color: white'><tr><th>App</th><th>Category</th><th>Rating</th><th>Reviews</th><th>Installs</th><th>Type</th><th>Price</th><th>Genres</th><th>Review</th></tr></thead><tbody><tr><td>Photo Editor & Candy Camera & Grid & ScrapBook</td><td>ART_AND_DESIGN</td><td>4.1</td><td>159</td><td>10000</td><td>Free</td><td>0</td><td>Art & Design</td><td>159</td></tr><tr><td>Coloring book moana</td><td>ART_AND_DESIGN</td><td>3.9</td><td>967</td><td>500000</td><td>Free</td><td>0</td><td>Art & Design;Pretend Play</td><td>967</td></tr><tr><td>U Launcher Lite – FREE Live Cool Themes, Hide Apps</td><td>ART_AND_DESIGN</td><td>4.7</td><td>87510</td><td>5000000</td><td>Free</td><td>0</td><td>Art & Design</td><td>87510</td></tr><tr><td>Sketch - Draw & Paint</td><td>ART_AND_DESIGN</td><td>4.5</td><td>215644</td><td>50000000</td><td>Free</td><td>0</td><td>Art & Design</td><td>215644</td></tr><tr><td>Pixel Draw - Number Art Coloring Book</td><td>ART_AND_DESIGN</td><td>4.3</td><td>967</td><td>100000</td><td>Free</td><td>0</td><td>Art & Design;Creativity</td><td>967</td></tr><tr><td>Paper flowers instructions</td><td>ART_AND_DESIGN</td><td>4.4</td><td>167</td><td>50000</td><td>Free</td><td>0</td><td>Art & Design</td><td>167</td></tr><tr><td>Smoke Effect Photo Maker - Smoke Editor</td><td>ART_AND_DESIGN</td><td>3.8</td><td>178</td><td>50000</td><td>Free</td><td>0</td><td>Art & Design</td><td>178</td></tr><tr><td>Infinite Painter</td><td>ART_AND_DESIGN</td><td>4.1</td><td>36815</td><td>1000000</td><td>Free</td><td>0</td><td>Art & Design</td><td>36815</td></tr><tr><td>Garden Coloring Book</td><td>ART_AND_DESIGN</td><td>4.4</td><td>13791</td><td>1000000</td><td>Free</td><td>0</td><td>Art & Design</td><td>13791</td></tr><tr><td>Kids Paint Free - Drawing Fun</td><td>ART_AND_DESIGN</td><td>4.7</td><td>121</td><td>10000</td><td>Free</td><td>0</td><td>Art & Design;Creativity</td><td>121</td></tr></tbody></table></div>"
      ]
     },
     "metadata": {
      "application/vnd.databricks.v1+output": {
       "addedWidgets": {},
       "aggData": [],
       "aggError": "",
       "aggOverflow": false,
       "aggSchema": [],
       "aggSeriesLimitReached": false,
       "aggType": "",
       "arguments": {},
       "columnCustomDisplayInfos": {},
       "data": [
        [
         "Photo Editor & Candy Camera & Grid & ScrapBook",
         "ART_AND_DESIGN",
         "4.1",
         "159",
         10000,
         "Free",
         0,
         "Art & Design",
         159
        ],
        [
         "Coloring book moana",
         "ART_AND_DESIGN",
         "3.9",
         "967",
         500000,
         "Free",
         0,
         "Art & Design;Pretend Play",
         967
        ],
        [
         "U Launcher Lite – FREE Live Cool Themes, Hide Apps",
         "ART_AND_DESIGN",
         "4.7",
         "87510",
         5000000,
         "Free",
         0,
         "Art & Design",
         87510
        ],
        [
         "Sketch - Draw & Paint",
         "ART_AND_DESIGN",
         "4.5",
         "215644",
         50000000,
         "Free",
         0,
         "Art & Design",
         215644
        ],
        [
         "Pixel Draw - Number Art Coloring Book",
         "ART_AND_DESIGN",
         "4.3",
         "967",
         100000,
         "Free",
         0,
         "Art & Design;Creativity",
         967
        ],
        [
         "Paper flowers instructions",
         "ART_AND_DESIGN",
         "4.4",
         "167",
         50000,
         "Free",
         0,
         "Art & Design",
         167
        ],
        [
         "Smoke Effect Photo Maker - Smoke Editor",
         "ART_AND_DESIGN",
         "3.8",
         "178",
         50000,
         "Free",
         0,
         "Art & Design",
         178
        ],
        [
         "Infinite Painter",
         "ART_AND_DESIGN",
         "4.1",
         "36815",
         1000000,
         "Free",
         0,
         "Art & Design",
         36815
        ],
        [
         "Garden Coloring Book",
         "ART_AND_DESIGN",
         "4.4",
         "13791",
         1000000,
         "Free",
         0,
         "Art & Design",
         13791
        ],
        [
         "Kids Paint Free - Drawing Fun",
         "ART_AND_DESIGN",
         "4.7",
         "121",
         10000,
         "Free",
         0,
         "Art & Design;Creativity",
         121
        ]
       ],
       "datasetInfos": [],
       "dbfsResultPath": null,
       "isJsonSchema": true,
       "metadata": {},
       "overflow": false,
       "plotOptions": {
        "customPlotOptions": {},
        "displayType": "table",
        "pivotAggregation": null,
        "pivotColumns": null,
        "xColumns": null,
        "yColumns": null
       },
       "removedWidgets": [],
       "schema": [
        {
         "metadata": "{}",
         "name": "App",
         "type": "\"string\""
        },
        {
         "metadata": "{}",
         "name": "Category",
         "type": "\"string\""
        },
        {
         "metadata": "{}",
         "name": "Rating",
         "type": "\"string\""
        },
        {
         "metadata": "{}",
         "name": "Reviews",
         "type": "\"string\""
        },
        {
         "metadata": "{}",
         "name": "Installs",
         "type": "\"integer\""
        },
        {
         "metadata": "{}",
         "name": "Type",
         "type": "\"string\""
        },
        {
         "metadata": "{}",
         "name": "Price",
         "type": "\"integer\""
        },
        {
         "metadata": "{}",
         "name": "Genres",
         "type": "\"string\""
        },
        {
         "metadata": "{}",
         "name": "Review",
         "type": "\"integer\""
        }
       ],
       "type": "table"
      }
     },
     "output_type": "display_data"
    }
   ],
   "source": [
    "%sql select *from gapps limit 10"
   ]
  },
  {
   "cell_type": "code",
   "execution_count": 0,
   "metadata": {
    "application/vnd.databricks.v1+cell": {
     "cellMetadata": {},
     "inputWidgets": {},
     "nuid": "41e12e75-0294-471e-bac7-fd1c05f5804a",
     "showTitle": true,
     "title": "Finding business insights"
    }
   },
   "outputs": [],
   "source": []
  },
  {
   "cell_type": "code",
   "execution_count": 0,
   "metadata": {
    "application/vnd.databricks.v1+cell": {
     "cellMetadata": {
      "byteLimit": 2048000,
      "implicitDf": true,
      "rowLimit": 10000
     },
     "inputWidgets": {},
     "nuid": "5cfc2888-f61a-4c22-a0df-7315ec898370",
     "showTitle": true,
     "title": "top reviews given to a app"
    }
   },
   "outputs": [
    {
     "output_type": "display_data",
     "data": {
      "text/html": [
       "<style scoped>\n",
       "  .table-result-container {\n",
       "    max-height: 300px;\n",
       "    overflow: auto;\n",
       "  }\n",
       "  table, th, td {\n",
       "    border: 1px solid black;\n",
       "    border-collapse: collapse;\n",
       "  }\n",
       "  th, td {\n",
       "    padding: 5px;\n",
       "  }\n",
       "  th {\n",
       "    text-align: left;\n",
       "  }\n",
       "</style><div class='table-result-container'><table class='table-result'><thead style='background-color: white'><tr><th>App</th><th>sum(Reviews)</th></tr></thead><tbody><tr><td>Instagram</td><td>2.66241989E8</td></tr><tr><td>WhatsApp Messenger</td><td>2.07348304E8</td></tr><tr><td>Clash of Clans</td><td>1.79558781E8</td></tr><tr><td>Messenger – Text and Video Chat for Free</td><td>1.69932272E8</td></tr><tr><td>Subway Surfers</td><td>1.66331958E8</td></tr><tr><td>Candy Crush Saga</td><td>1.56993136E8</td></tr><tr><td>Facebook</td><td>1.56286514E8</td></tr><tr><td>8 Ball Pool</td><td>9.9386198E7</td></tr><tr><td>Clash Royale</td><td>9.2530298E7</td></tr><tr><td>Snapchat</td><td>6.804501E7</td></tr></tbody></table></div>"
      ]
     },
     "metadata": {
      "application/vnd.databricks.v1+output": {
       "addedWidgets": {},
       "aggData": [],
       "aggError": "",
       "aggOverflow": false,
       "aggSchema": [],
       "aggSeriesLimitReached": false,
       "aggType": "",
       "arguments": {},
       "columnCustomDisplayInfos": {},
       "data": [
        [
         "Instagram",
         2.66241989E8
        ],
        [
         "WhatsApp Messenger",
         2.07348304E8
        ],
        [
         "Clash of Clans",
         1.79558781E8
        ],
        [
         "Messenger – Text and Video Chat for Free",
         1.69932272E8
        ],
        [
         "Subway Surfers",
         1.66331958E8
        ],
        [
         "Candy Crush Saga",
         1.56993136E8
        ],
        [
         "Facebook",
         1.56286514E8
        ],
        [
         "8 Ball Pool",
         9.9386198E7
        ],
        [
         "Clash Royale",
         9.2530298E7
        ],
        [
         "Snapchat",
         6.804501E7
        ]
       ],
       "datasetInfos": [],
       "dbfsResultPath": null,
       "isJsonSchema": true,
       "metadata": {},
       "overflow": false,
       "plotOptions": {
        "customPlotOptions": {},
        "displayType": "table",
        "pivotAggregation": null,
        "pivotColumns": null,
        "xColumns": null,
        "yColumns": null
       },
       "removedWidgets": [],
       "schema": [
        {
         "metadata": "{}",
         "name": "App",
         "type": "\"string\""
        },
        {
         "metadata": "{\"__autoGeneratedAlias\":\"true\"}",
         "name": "sum(Reviews)",
         "type": "\"double\""
        }
       ],
       "type": "table"
      }
     },
     "output_type": "display_data"
    }
   ],
   "source": [
    "%sql SELECT App,sum(Reviews) From gapps\n",
    "GROUP BY App\n",
    "ORDER BY sum(Reviews) Desc LIMIT 10 "
   ]
  },
  {
   "cell_type": "code",
   "execution_count": 0,
   "metadata": {
    "application/vnd.databricks.v1+cell": {
     "cellMetadata": {
      "byteLimit": 2048000,
      "implicitDf": true,
      "rowLimit": 10000
     },
     "inputWidgets": {},
     "nuid": "2fcd3556-205a-4feb-af6b-ea3ffc32d672",
     "showTitle": true,
     "title": "Top 10 installed apps"
    }
   },
   "outputs": [
    {
     "output_type": "display_data",
     "data": {
      "text/html": [
       "<style scoped>\n",
       "  .table-result-container {\n",
       "    max-height: 300px;\n",
       "    overflow: auto;\n",
       "  }\n",
       "  table, th, td {\n",
       "    border: 1px solid black;\n",
       "    border-collapse: collapse;\n",
       "  }\n",
       "  th, td {\n",
       "    padding: 5px;\n",
       "  }\n",
       "  th {\n",
       "    text-align: left;\n",
       "  }\n",
       "</style><div class='table-result-container'><table class='table-result'><thead style='background-color: white'><tr><th>App</th><th>sum(Installs)</th></tr></thead><tbody><tr><td>Subway Surfers</td><td>6000000000</td></tr><tr><td>Instagram</td><td>4000000000</td></tr><tr><td>Hangouts</td><td>4000000000</td></tr><tr><td>Google Drive</td><td>4000000000</td></tr><tr><td>Google News</td><td>4000000000</td></tr><tr><td>Google Photos</td><td>4000000000</td></tr><tr><td>Candy Crush Saga</td><td>3500000000</td></tr><tr><td>WhatsApp Messenger</td><td>3000000000</td></tr><tr><td>Messenger – Text and Video Chat for Free</td><td>3000000000</td></tr><tr><td>Google Chrome: Fast & Secure</td><td>3000000000</td></tr></tbody></table></div>"
      ]
     },
     "metadata": {
      "application/vnd.databricks.v1+output": {
       "addedWidgets": {},
       "aggData": [],
       "aggError": "",
       "aggOverflow": false,
       "aggSchema": [],
       "aggSeriesLimitReached": false,
       "aggType": "",
       "arguments": {},
       "columnCustomDisplayInfos": {},
       "data": [
        [
         "Subway Surfers",
         6000000000
        ],
        [
         "Instagram",
         4000000000
        ],
        [
         "Hangouts",
         4000000000
        ],
        [
         "Google Drive",
         4000000000
        ],
        [
         "Google News",
         4000000000
        ],
        [
         "Google Photos",
         4000000000
        ],
        [
         "Candy Crush Saga",
         3500000000
        ],
        [
         "WhatsApp Messenger",
         3000000000
        ],
        [
         "Messenger – Text and Video Chat for Free",
         3000000000
        ],
        [
         "Google Chrome: Fast & Secure",
         3000000000
        ]
       ],
       "datasetInfos": [],
       "dbfsResultPath": null,
       "isJsonSchema": true,
       "metadata": {},
       "overflow": false,
       "plotOptions": {
        "customPlotOptions": {},
        "displayType": "table",
        "pivotAggregation": null,
        "pivotColumns": null,
        "xColumns": null,
        "yColumns": null
       },
       "removedWidgets": [],
       "schema": [
        {
         "metadata": "{}",
         "name": "App",
         "type": "\"string\""
        },
        {
         "metadata": "{\"__autoGeneratedAlias\":\"true\"}",
         "name": "sum(Installs)",
         "type": "\"long\""
        }
       ],
       "type": "table"
      }
     },
     "output_type": "display_data"
    }
   ],
   "source": [
    "%sql SELECT App,sum(Installs) FROM gapps\n",
    "GROUP BY App \n",
    "ORDER BY sum(Installs) DESC\n",
    "LIMIT 10"
   ]
  },
  {
   "cell_type": "code",
   "execution_count": 0,
   "metadata": {
    "application/vnd.databricks.v1+cell": {
     "cellMetadata": {
      "byteLimit": 2048000,
      "implicitDf": true,
      "rowLimit": 10000
     },
     "inputWidgets": {},
     "nuid": "d6526564-5963-4ce2-a43a-b09c2e388000",
     "showTitle": true,
     "title": "Category-wise installs distribution"
    }
   },
   "outputs": [
    {
     "output_type": "display_data",
     "data": {
      "text/html": [
       "<style scoped>\n",
       "  .table-result-container {\n",
       "    max-height: 300px;\n",
       "    overflow: auto;\n",
       "  }\n",
       "  table, th, td {\n",
       "    border: 1px solid black;\n",
       "    border-collapse: collapse;\n",
       "  }\n",
       "  th, td {\n",
       "    padding: 5px;\n",
       "  }\n",
       "  th {\n",
       "    text-align: left;\n",
       "  }\n",
       "</style><div class='table-result-container'><table class='table-result'><thead style='background-color: white'><tr><th>Category</th><th>sum(Installs)</th></tr></thead><tbody><tr><td>GAME</td><td>35086024415</td></tr><tr><td>COMMUNICATION</td><td>32647276251</td></tr><tr><td>PRODUCTIVITY</td><td>14176091369</td></tr><tr><td>SOCIAL</td><td>14069867902</td></tr><tr><td>TOOLS</td><td>11452771915</td></tr><tr><td>FAMILY</td><td>10258263505</td></tr><tr><td>PHOTOGRAPHY</td><td>10088247655</td></tr><tr><td>NEWS_AND_MAGAZINES</td><td>7496317760</td></tr><tr><td>TRAVEL_AND_LOCAL</td><td>6868887146</td></tr><tr><td>VIDEO_PLAYERS</td><td>6222002720</td></tr></tbody></table></div>"
      ]
     },
     "metadata": {
      "application/vnd.databricks.v1+output": {
       "addedWidgets": {},
       "aggData": [],
       "aggError": "",
       "aggOverflow": false,
       "aggSchema": [],
       "aggSeriesLimitReached": false,
       "aggType": "",
       "arguments": {},
       "columnCustomDisplayInfos": {},
       "data": [
        [
         "GAME",
         35086024415
        ],
        [
         "COMMUNICATION",
         32647276251
        ],
        [
         "PRODUCTIVITY",
         14176091369
        ],
        [
         "SOCIAL",
         14069867902
        ],
        [
         "TOOLS",
         11452771915
        ],
        [
         "FAMILY",
         10258263505
        ],
        [
         "PHOTOGRAPHY",
         10088247655
        ],
        [
         "NEWS_AND_MAGAZINES",
         7496317760
        ],
        [
         "TRAVEL_AND_LOCAL",
         6868887146
        ],
        [
         "VIDEO_PLAYERS",
         6222002720
        ]
       ],
       "datasetInfos": [],
       "dbfsResultPath": null,
       "isJsonSchema": true,
       "metadata": {},
       "overflow": false,
       "plotOptions": {
        "customPlotOptions": {},
        "displayType": "table",
        "pivotAggregation": null,
        "pivotColumns": null,
        "xColumns": null,
        "yColumns": null
       },
       "removedWidgets": [],
       "schema": [
        {
         "metadata": "{}",
         "name": "Category",
         "type": "\"string\""
        },
        {
         "metadata": "{\"__autoGeneratedAlias\":\"true\"}",
         "name": "sum(Installs)",
         "type": "\"long\""
        }
       ],
       "type": "table"
      }
     },
     "output_type": "display_data"
    }
   ],
   "source": [
    "%sql select Category,sum(Installs) FROM gapps\n",
    "group by Category\n",
    "order by sum(Installs) desc \n",
    "limit 10"
   ]
  },
  {
   "cell_type": "code",
   "execution_count": 0,
   "metadata": {
    "application/vnd.databricks.v1+cell": {
     "cellMetadata": {
      "byteLimit": 2048000,
      "implicitDf": true,
      "rowLimit": 10000
     },
     "inputWidgets": {},
     "nuid": "f8f3607a-f9d0-4356-b1ac-20ca3b9f288c",
     "showTitle": true,
     "title": "Top paid Apps By installs"
    }
   },
   "outputs": [
    {
     "output_type": "display_data",
     "data": {
      "text/html": [
       "<style scoped>\n",
       "  .table-result-container {\n",
       "    max-height: 300px;\n",
       "    overflow: auto;\n",
       "  }\n",
       "  table, th, td {\n",
       "    border: 1px solid black;\n",
       "    border-collapse: collapse;\n",
       "  }\n",
       "  th, td {\n",
       "    padding: 5px;\n",
       "  }\n",
       "  th {\n",
       "    text-align: left;\n",
       "  }\n",
       "</style><div class='table-result-container'><table class='table-result'><thead style='background-color: white'><tr><th>App</th><th>sum(installs)</th></tr></thead><tbody><tr><td>Minecraft</td><td>20000000</td></tr><tr><td>Hitman Sniper</td><td>10000000</td></tr><tr><td>Facetune - For Free</td><td>3000000</td></tr><tr><td>Beautiful Widgets Pro</td><td>2000000</td></tr><tr><td>HD Widgets</td><td>2000000</td></tr><tr><td>Tasker</td><td>1000000</td></tr><tr><td>Fruit Ninja Classic</td><td>1000000</td></tr><tr><td>True Skate</td><td>1000000</td></tr><tr><td>Where's My Water?</td><td>1000000</td></tr><tr><td>DraStic DS Emulator</td><td>1000000</td></tr></tbody></table></div>"
      ]
     },
     "metadata": {
      "application/vnd.databricks.v1+output": {
       "addedWidgets": {},
       "aggData": [],
       "aggError": "",
       "aggOverflow": false,
       "aggSchema": [],
       "aggSeriesLimitReached": false,
       "aggType": "",
       "arguments": {},
       "columnCustomDisplayInfos": {},
       "data": [
        [
         "Minecraft",
         20000000
        ],
        [
         "Hitman Sniper",
         10000000
        ],
        [
         "Facetune - For Free",
         3000000
        ],
        [
         "Beautiful Widgets Pro",
         2000000
        ],
        [
         "HD Widgets",
         2000000
        ],
        [
         "Tasker",
         1000000
        ],
        [
         "Fruit Ninja Classic",
         1000000
        ],
        [
         "True Skate",
         1000000
        ],
        [
         "Where's My Water?",
         1000000
        ],
        [
         "DraStic DS Emulator",
         1000000
        ]
       ],
       "datasetInfos": [],
       "dbfsResultPath": null,
       "isJsonSchema": true,
       "metadata": {},
       "overflow": false,
       "plotOptions": {
        "customPlotOptions": {},
        "displayType": "table",
        "pivotAggregation": null,
        "pivotColumns": null,
        "xColumns": null,
        "yColumns": null
       },
       "removedWidgets": [],
       "schema": [
        {
         "metadata": "{}",
         "name": "App",
         "type": "\"string\""
        },
        {
         "metadata": "{\"__autoGeneratedAlias\":\"true\"}",
         "name": "sum(installs)",
         "type": "\"long\""
        }
       ],
       "type": "table"
      }
     },
     "output_type": "display_data"
    }
   ],
   "source": [
    "%sql SELECT App,sum(installs) From gapps\n",
    "Where Type = \"Paid\"\n",
    "GROUP BY App\n",
    "ORDER BY sum(installs) DESC\n",
    "LIMIT 10"
   ]
  },
  {
   "cell_type": "code",
   "execution_count": 0,
   "metadata": {
    "application/vnd.databricks.v1+cell": {
     "cellMetadata": {
      "byteLimit": 2048000,
      "implicitDf": true,
      "rowLimit": 10000
     },
     "inputWidgets": {},
     "nuid": "f3609c02-4100-4243-a9ce-2b0339b9fd01",
     "showTitle": true,
     "title": "Top paid apps by reviews"
    }
   },
   "outputs": [
    {
     "output_type": "display_data",
     "data": {
      "text/html": [
       "<style scoped>\n",
       "  .table-result-container {\n",
       "    max-height: 300px;\n",
       "    overflow: auto;\n",
       "  }\n",
       "  table, th, td {\n",
       "    border: 1px solid black;\n",
       "    border-collapse: collapse;\n",
       "  }\n",
       "  th, td {\n",
       "    padding: 5px;\n",
       "  }\n",
       "  th {\n",
       "    text-align: left;\n",
       "  }\n",
       "</style><div class='table-result-container'><table class='table-result'><thead style='background-color: white'><tr><th>App</th><th>sum(Reviews)</th></tr></thead><tbody><tr><td>Minecraft</td><td>4751900.0</td></tr><tr><td>Hitman Sniper</td><td>408292.0</td></tr><tr><td>Grand Theft Auto: San Andreas</td><td>348962.0</td></tr><tr><td>Beautiful Widgets Pro</td><td>195780.0</td></tr><tr><td>Bloons TD 5</td><td>190086.0</td></tr><tr><td>Where's My Water?</td><td>188740.0</td></tr><tr><td>Facetune - For Free</td><td>148659.0</td></tr><tr><td>Card Wars - Adventure Time</td><td>129603.0</td></tr><tr><td>True Skate</td><td>129409.0</td></tr><tr><td>HD Widgets</td><td>117231.0</td></tr></tbody></table></div>"
      ]
     },
     "metadata": {
      "application/vnd.databricks.v1+output": {
       "addedWidgets": {},
       "aggData": [],
       "aggError": "",
       "aggOverflow": false,
       "aggSchema": [],
       "aggSeriesLimitReached": false,
       "aggType": "",
       "arguments": {},
       "columnCustomDisplayInfos": {},
       "data": [
        [
         "Minecraft",
         4751900.0
        ],
        [
         "Hitman Sniper",
         408292.0
        ],
        [
         "Grand Theft Auto: San Andreas",
         348962.0
        ],
        [
         "Beautiful Widgets Pro",
         195780.0
        ],
        [
         "Bloons TD 5",
         190086.0
        ],
        [
         "Where's My Water?",
         188740.0
        ],
        [
         "Facetune - For Free",
         148659.0
        ],
        [
         "Card Wars - Adventure Time",
         129603.0
        ],
        [
         "True Skate",
         129409.0
        ],
        [
         "HD Widgets",
         117231.0
        ]
       ],
       "datasetInfos": [],
       "dbfsResultPath": null,
       "isJsonSchema": true,
       "metadata": {},
       "overflow": false,
       "plotOptions": {
        "customPlotOptions": {},
        "displayType": "table",
        "pivotAggregation": null,
        "pivotColumns": null,
        "xColumns": null,
        "yColumns": null
       },
       "removedWidgets": [],
       "schema": [
        {
         "metadata": "{}",
         "name": "App",
         "type": "\"string\""
        },
        {
         "metadata": "{\"__autoGeneratedAlias\":\"true\"}",
         "name": "sum(Reviews)",
         "type": "\"double\""
        }
       ],
       "type": "table"
      }
     },
     "output_type": "display_data"
    }
   ],
   "source": [
    "%sql SELECT App,sum(Reviews) From gapps\n",
    "Where Type = \"Paid\"\n",
    "GROUP BY App\n",
    "ORDER BY sum(Reviews) DESC\n",
    "LIMIT 10"
   ]
  },
  {
   "cell_type": "code",
   "execution_count": 0,
   "metadata": {
    "application/vnd.databricks.v1+cell": {
     "cellMetadata": {},
     "inputWidgets": {},
     "nuid": "81ac21e2-09ac-4242-9c32-31eac8790883",
     "showTitle": false,
     "title": ""
    }
   },
   "outputs": [],
   "source": []
  }
 ],
 "metadata": {
  "application/vnd.databricks.v1+notebook": {
   "dashboards": [],
   "language": "python",
   "notebookMetadata": {
    "mostRecentlyExecutedCommandWithImplicitDF": {
     "commandId": 3310690492713717,
     "dataframes": [
      "_sqldf"
     ]
    },
    "pythonIndentUnit": 4
   },
   "notebookName": "Pyspark Project 2024-04-06 11:24:07",
   "widgets": {}
  }
 },
 "nbformat": 4,
 "nbformat_minor": 0
}
