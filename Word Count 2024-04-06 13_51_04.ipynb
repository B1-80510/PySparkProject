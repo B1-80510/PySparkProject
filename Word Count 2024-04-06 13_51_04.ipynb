{
 "cells": [
  {
   "cell_type": "code",
   "execution_count": 0,
   "metadata": {
    "application/vnd.databricks.v1+cell": {
     "cellMetadata": {
      "byteLimit": 2048000,
      "rowLimit": 10000
     },
     "inputWidgets": {},
     "nuid": "a93cdb41-b4a3-4c32-bc27-5f77a2e4a6ef",
     "showTitle": false,
     "title": ""
    }
   },
   "outputs": [],
   "source": [
    "import pyspark\n",
    "from pyspark.sql import SparkSession\n",
    "from pyspark.sql.functions import *"
   ]
  },
  {
   "cell_type": "code",
   "execution_count": 0,
   "metadata": {
    "application/vnd.databricks.v1+cell": {
     "cellMetadata": {
      "byteLimit": 2048000,
      "rowLimit": 10000
     },
     "inputWidgets": {},
     "nuid": "4a4c55c9-42d8-438b-9006-35e4ca2b2b64",
     "showTitle": false,
     "title": ""
    }
   },
   "outputs": [],
   "source": [
    "filepath = \"/FileStore/tables/LICENSE.txt\"  "
   ]
  },
  {
   "cell_type": "code",
   "execution_count": 0,
   "metadata": {
    "application/vnd.databricks.v1+cell": {
     "cellMetadata": {
      "byteLimit": 2048000,
      "rowLimit": 10000
     },
     "inputWidgets": {},
     "nuid": "76e6b93d-e380-479c-a982-92b73744ad35",
     "showTitle": false,
     "title": ""
    }
   },
   "outputs": [],
   "source": [
    "df = spark.read.csv('/FileStore/tables/LICENSE.txt', inferSchema=True, header=False, sep = \",\")"
   ]
  },
  {
   "cell_type": "code",
   "execution_count": 0,
   "metadata": {
    "application/vnd.databricks.v1+cell": {
     "cellMetadata": {
      "byteLimit": 2048000,
      "rowLimit": 10000
     },
     "inputWidgets": {},
     "nuid": "d9785a7d-b433-4eb1-9199-efb15dd21332",
     "showTitle": false,
     "title": ""
    }
   },
   "outputs": [
    {
     "output_type": "stream",
     "name": "stdout",
     "output_type": "stream",
     "text": [
      "+--------------------+\n|                 _c0|\n+--------------------+\n|                 ...|\n|                 ...|\n|                 ...|\n|   TERMS AND COND...|\n|     1. Definitions.|\n|      \"License\" s...|\n|      and distrib...|\n|      \"Licensor\" ...|\n|      the copyrig...|\n|      \"Legal Enti...|\n|      other entit...|\n|      control wit...|\n|      \"control\" m...|\n|      direction o...|\n|           otherwise|\n|      outstanding...|\n|      \"You\" (or \"...|\n|      exercising ...|\n|      \"Source\" fo...|\n|      including b...|\n+--------------------+\nonly showing top 20 rows\n\n"
     ]
    }
   ],
   "source": [
    "df.show()"
   ]
  },
  {
   "cell_type": "code",
   "execution_count": 0,
   "metadata": {
    "application/vnd.databricks.v1+cell": {
     "cellMetadata": {
      "byteLimit": 2048000,
      "rowLimit": 10000
     },
     "inputWidgets": {},
     "nuid": "6a0a9c09-b15c-4af7-a32f-4a5b4ea0fc08",
     "showTitle": false,
     "title": ""
    }
   },
   "outputs": [
    {
     "output_type": "stream",
     "name": "stdout",
     "output_type": "stream",
     "text": [
      "Out[17]: ['_c0']"
     ]
    }
   ],
   "source": [
    "df.columns"
   ]
  },
  {
   "cell_type": "code",
   "execution_count": 0,
   "metadata": {
    "application/vnd.databricks.v1+cell": {
     "cellMetadata": {
      "byteLimit": 2048000,
      "rowLimit": 10000
     },
     "inputWidgets": {},
     "nuid": "4ef65d0a-69d8-45d9-bd77-14470a114e24",
     "showTitle": false,
     "title": ""
    }
   },
   "outputs": [],
   "source": [
    "words = df.select(explode(split(lower('_c0'),'[^a-z]')))\\\n",
    "    .withColumnRenamed('col','word')\\\n",
    "    .where(\"word NOT IN ('', 'is', 'shall', 'under', 'over', 'by', 'are', 'the', 'a', 'an', 'on', 'for', 'and', 'or', 'of', 'in', 'to', 'this', 'that', 'you', 'any', 'such')\")\n"
   ]
  },
  {
   "cell_type": "code",
   "execution_count": 0,
   "metadata": {
    "application/vnd.databricks.v1+cell": {
     "cellMetadata": {
      "byteLimit": 2048000,
      "rowLimit": 10000
     },
     "inputWidgets": {},
     "nuid": "d5206466-f29d-4abd-ba5d-edb6dd2125ef",
     "showTitle": false,
     "title": ""
    }
   },
   "outputs": [
    {
     "output_type": "stream",
     "name": "stdout",
     "output_type": "stream",
     "text": [
      "+------------+\n|        word|\n+------------+\n|      apache|\n|     license|\n|     version|\n|        http|\n|         www|\n|      apache|\n|         org|\n|    licenses|\n|       terms|\n|  conditions|\n|         use|\n| definitions|\n|     license|\n|        mean|\n|       terms|\n|  conditions|\n|         use|\n|distribution|\n|          as|\n|     defined|\n+------------+\nonly showing top 20 rows\n\n"
     ]
    }
   ],
   "source": [
    "words.show()"
   ]
  },
  {
   "cell_type": "code",
   "execution_count": 0,
   "metadata": {
    "application/vnd.databricks.v1+cell": {
     "cellMetadata": {
      "byteLimit": 2048000,
      "rowLimit": 10000
     },
     "inputWidgets": {},
     "nuid": "d4abe21d-2e79-4994-a881-22f66eef0a04",
     "showTitle": false,
     "title": ""
    }
   },
   "outputs": [],
   "source": [
    "result = words.groupBy('word').count()\\\n",
    "    .orderBy('count', ascending=False)\\\n",
    "        .limit(10)"
   ]
  },
  {
   "cell_type": "code",
   "execution_count": 0,
   "metadata": {
    "application/vnd.databricks.v1+cell": {
     "cellMetadata": {
      "byteLimit": 2048000,
      "rowLimit": 10000
     },
     "inputWidgets": {},
     "nuid": "f79bf04a-d2cb-4970-8eab-4d2b7ac983ab",
     "showTitle": false,
     "title": ""
    }
   },
   "outputs": [
    {
     "output_type": "stream",
     "name": "stdout",
     "output_type": "stream",
     "text": [
      "+-------+-----+\n|   word|count|\n+-------+-----+\n| hadoop|   89|\n|   hdfs|   40|\n|license|   36|\n|    src|   36|\n|   main|   35|\n|project|   31|\n|   work|   29|\n|   yarn|   26|\n| native|   20|\n|     js|   16|\n+-------+-----+\n\n"
     ]
    }
   ],
   "source": [
    "result.show()"
   ]
  },
  {
   "cell_type": "code",
   "execution_count": 0,
   "metadata": {
    "application/vnd.databricks.v1+cell": {
     "cellMetadata": {},
     "inputWidgets": {},
     "nuid": "bf12b9e5-4d63-4dbd-b662-cf2011b9c847",
     "showTitle": false,
     "title": ""
    }
   },
   "outputs": [],
   "source": []
  }
 ],
 "metadata": {
  "application/vnd.databricks.v1+notebook": {
   "dashboards": [],
   "language": "python",
   "notebookMetadata": {
    "pythonIndentUnit": 4
   },
   "notebookName": "Word Count 2024-04-06 13:51:04",
   "widgets": {}
  }
 },
 "nbformat": 4,
 "nbformat_minor": 0
}
